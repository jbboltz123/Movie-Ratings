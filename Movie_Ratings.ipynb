{
 "cells": [
  {
   "cell_type": "code",
   "execution_count": null,
   "metadata": {
    "collapsed": true
   },
   "outputs": [],
   "source": [
    "import os\n",
    "import urllib\n",
    "from BeautifulSoup import BeautifulSoup\n",
    "\n",
    "class MyOpener(urllib.FancyURLopener):\n",
    "    version = 'Mozilla/5.0 (Windows; U; Windows NT 6.1; en-US; rv:1.9.2.15) Gecko/20110303 Firefox/3.6.15'\n",
    "\n",
    "def getRatings(movie_page):\n",
    "    myopener = MyOpener()\n",
    "    page = myopener.open(movie_page)\n",
    "    soup = BeautifulSoup(page.read())\n",
    "    \n",
    "    info   = soup.find('div', {'id' : 'movieSynopsis'}).text\n",
    "    div    = soup.find('div', {'id' : 'scorePanel'})\n",
    "    tdiv   = div.find('div', {'class' : 'col-sm-16 col-xs-12 tmeterpanel'})\n",
    "    adiv   = div.find('div', {'class' : 'col-sm-8 col-xs-12 audiencepanel'})\n",
    "    tspan  = tdiv.find('span', {'class' : 'meter-value superPageFontColor'})\n",
    "    try:\n",
    "        tmeter = tspan.find('span').text\n",
    "        tmeter = float(tmeter)\n",
    "    except:\n",
    "        tmeter = 'Not Critically Rated'\n",
    "        pass\n",
    "    try:\n",
    "        ameter = adiv.find('span', {'class' : 'superPageFontColor'}).text\n",
    "        ameter = float(ameter[:len(ameter)-1])\n",
    "    except:\n",
    "        ameter = 'Not Audience Rated'\n",
    "        pass\n",
    "    return tmeter, ameter, info\n",
    "\n",
    "critics, audience, synopsis = getRatings(movie)"
   ]
  }
 ],
 "metadata": {
  "kernelspec": {
   "display_name": "Python 2",
   "language": "python",
   "name": "python2"
  },
  "language_info": {
   "codemirror_mode": {
    "name": "ipython",
    "version": 2
   },
   "file_extension": ".py",
   "mimetype": "text/x-python",
   "name": "python",
   "nbconvert_exporter": "python",
   "pygments_lexer": "ipython2",
   "version": "2.7.11"
  }
 },
 "nbformat": 4,
 "nbformat_minor": 0
}
